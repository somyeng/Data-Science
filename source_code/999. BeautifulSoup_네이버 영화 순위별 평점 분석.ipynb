{
 "cells": [
  {
   "cell_type": "code",
   "execution_count": 3,
   "id": "644e4191-a8e2-4d0a-bf45-65c1bb740fc2",
   "metadata": {},
   "outputs": [],
   "source": [
    "# 네이버 영화 평점 순위_박스오피스_평점순\n",
    "\n",
    "from urllib.request import Request, urlopen, urljoin\n",
    "from bs4 import BeautifulSoup\n",
    "\n",
    "# URL 정의\n",
    "url = 'https://search.naver.com/search.naver?where=nexearch&sm=tab_etc&qvt=0&query=%EB%B0%95%EC%8A%A4%EC%98%A4%ED%94%BC%EC%8A%A4'\n",
    "\n",
    "# User-Agent 헤더 설정\n",
    "headers = {'User-Agent': 'Mozilla/5.0 (Windows NT 10.0; Win64; x64) AppleWebKit/537.36 (KHTML, like Gecko) Chrome/91.0.4472.124 Safari/537.36'}\n",
    "req = Request(url, headers=headers)\n",
    "\n",
    "# 요청 보내기\n",
    "html = urlopen(req)\n",
    "soup = BeautifulSoup(html, 'html.parser')"
   ]
  },
  {
   "cell_type": "code",
   "execution_count": 5,
   "id": "5ee315cc-1c28-4580-8f56-e55399b4aa01",
   "metadata": {},
   "outputs": [
    {
     "data": {
      "text/plain": [
       "[<div class=\"title_box\"> <strong class=\"name\">하얼빈</strong> <span class=\"sub_text\">3.7만명</span> </div>,\n",
       " <div class=\"title_box\"> <strong class=\"name\">소방관</strong> <span class=\"sub_text\">1.1만명</span> </div>,\n",
       " <div class=\"title_box\"> <strong class=\"name\">동화지만 청불입니다</strong> <span class=\"sub_text\">7,035명</span> </div>,\n",
       " <div class=\"title_box\"> <strong class=\"name\">보고타: 마지막 기회의 땅</strong> <span class=\"sub_text\">5,401명</span> </div>,\n",
       " <div class=\"title_box\"> <strong class=\"name\">극장판 짱구는 못말려: 우리...</strong> <span class=\"sub_text\">3,899명</span> </div>,\n",
       " <div class=\"title_box\"> <strong class=\"name\">수퍼 소닉3</strong> <span class=\"sub_text\">3,673명</span> </div>,\n",
       " <div class=\"title_box\"> <strong class=\"name\">위키드</strong> <span class=\"sub_text\">3,414명</span> </div>,\n",
       " <div class=\"title_box\"> <strong class=\"name\">서브스턴스</strong> <span class=\"sub_text\">3,245명</span> </div>,\n",
       " <div class=\"title_box\"> <strong class=\"name\">뽀로로 극장판 바닷속 대모험</strong> <span class=\"sub_text\">3,190명</span> </div>,\n",
       " <div class=\"title_box\"> <strong class=\"name\">모아나 2</strong> <span class=\"sub_text\">2,768명</span> </div>,\n",
       " <div class=\"title_box\"> <strong class=\"name\">무파사: 라이온 킹</strong> <span class=\"sub_text\">2,573명</span> </div>,\n",
       " <div class=\"title_box\"> <strong class=\"name\">페라리</strong> <span class=\"sub_text\">2,222명</span> </div>,\n",
       " <div class=\"title_box\"> <strong class=\"name\">러브레터</strong> <span class=\"sub_text\">2,009명</span> </div>,\n",
       " <div class=\"title_box\"> <strong class=\"name\">시빌 워: 분열의 시대</strong> <span class=\"sub_text\">1,466명</span> </div>,\n",
       " <div class=\"title_box\"> <strong class=\"name\">데드데드 데몬즈 디디디디 디...</strong> <span class=\"sub_text\">1,315명</span> </div>,\n",
       " <div class=\"title_box\"> <strong class=\"name\">더 폴: 디렉터스 컷</strong> <span class=\"sub_text\">1,244명</span> </div>,\n",
       " <div class=\"title_box\"> <strong class=\"name\">귀신경찰</strong> <span class=\"sub_text\">859명</span> </div>,\n",
       " <div class=\"title_box\"> <strong class=\"name\">이처럼 사소한 것들</strong> <span class=\"sub_text\">566명</span> </div>,\n",
       " <div class=\"title_box\"> <strong class=\"name\">대가족</strong> <span class=\"sub_text\">413명</span> </div>,\n",
       " <div class=\"title_box\"> <strong class=\"name\">극장판 주술회전 0</strong> <span class=\"sub_text\">392명</span> </div>,\n",
       " <div class=\"title_box\"> <strong class=\"name\">코넬의 상자</strong> <span class=\"sub_text\">388명</span> </div>,\n",
       " <div class=\"title_box\"> <strong class=\"name\">쇼잉 업</strong> <span class=\"sub_text\">362명</span> </div>,\n",
       " <div class=\"title_box\"> <strong class=\"name\">이터널 선샤인</strong> <span class=\"sub_text\">292명</span> </div>,\n",
       " <div class=\"title_box\"> <strong class=\"name\">사일런트 러브</strong> <span class=\"sub_text\">274명</span> </div>,\n",
       " <div class=\"title_box\"> <strong class=\"name\">카라바조의 그림자</strong> <span class=\"sub_text\">255명</span> </div>,\n",
       " <div class=\"title_box\"> <strong class=\"name\">노스페라투</strong> <span class=\"sub_text\">180명</span> </div>,\n",
       " <div class=\"title_box\"> <strong class=\"name\">색, 계</strong> <span class=\"sub_text\">178명</span> </div>,\n",
       " <div class=\"title_box\"> <strong class=\"name\">문워크</strong> <span class=\"sub_text\">172명</span> </div>,\n",
       " <div class=\"title_box\"> <strong class=\"name\">보와니 분기점</strong> <span class=\"sub_text\">172명</span> </div>,\n",
       " <div class=\"title_box\"> <strong class=\"name\">페르소나: 이상한 여자</strong> <span class=\"sub_text\">170명</span> </div>,\n",
       " <div class=\"title_box\"> <strong class=\"name\">뽀로로 극장판 바닷속 대모험</strong> <span class=\"sub_text\"><span class=\"this_icon_star\"></span>9.83</span> </div>,\n",
       " <div class=\"title_box\"> <strong class=\"name\">러브레터</strong> <span class=\"sub_text\"><span class=\"this_icon_star\"></span>9.32</span> </div>,\n",
       " <div class=\"title_box\"> <strong class=\"name\">이터널 선샤인</strong> <span class=\"sub_text\"><span class=\"this_icon_star\"></span>9.23</span> </div>,\n",
       " <div class=\"title_box\"> <strong class=\"name\">색, 계</strong> <span class=\"sub_text\"><span class=\"this_icon_star\"></span>9.10</span> </div>,\n",
       " <div class=\"title_box\"> <strong class=\"name\">극장판 주술회전 0</strong> <span class=\"sub_text\"><span class=\"this_icon_star\"></span>8.90</span> </div>,\n",
       " <div class=\"title_box\"> <strong class=\"name\">더 폴: 디렉터스 컷</strong> <span class=\"sub_text\"><span class=\"this_icon_star\"></span>8.90</span> </div>,\n",
       " <div class=\"title_box\"> <strong class=\"name\">위키드</strong> <span class=\"sub_text\"><span class=\"this_icon_star\"></span>8.68</span> </div>,\n",
       " <div class=\"title_box\"> <strong class=\"name\">서브스턴스</strong> <span class=\"sub_text\"><span class=\"this_icon_star\"></span>8.40</span> </div>,\n",
       " <div class=\"title_box\"> <strong class=\"name\">시빌 워: 분열의 시대</strong> <span class=\"sub_text\"><span class=\"this_icon_star\"></span>8.35</span> </div>,\n",
       " <div class=\"title_box\"> <strong class=\"name\">소방관</strong> <span class=\"sub_text\"><span class=\"this_icon_star\"></span>8.20</span> </div>,\n",
       " <div class=\"title_box\"> <strong class=\"name\">수퍼 소닉3</strong> <span class=\"sub_text\"><span class=\"this_icon_star\"></span>8.20</span> </div>,\n",
       " <div class=\"title_box\"> <strong class=\"name\">동화지만 청불입니다</strong> <span class=\"sub_text\"><span class=\"this_icon_star\"></span>8.11</span> </div>,\n",
       " <div class=\"title_box\"> <strong class=\"name\">하얼빈</strong> <span class=\"sub_text\"><span class=\"this_icon_star\"></span>8.02</span> </div>,\n",
       " <div class=\"title_box\"> <strong class=\"name\">이처럼 사소한 것들</strong> <span class=\"sub_text\"><span class=\"this_icon_star\"></span>8.02</span> </div>,\n",
       " <div class=\"title_box\"> <strong class=\"name\">모아나 2</strong> <span class=\"sub_text\"><span class=\"this_icon_star\"></span>8.01</span> </div>,\n",
       " <div class=\"title_box\"> <strong class=\"name\">무파사: 라이온 킹</strong> <span class=\"sub_text\"><span class=\"this_icon_star\"></span>8.01</span> </div>,\n",
       " <div class=\"title_box\"> <strong class=\"name\">대가족</strong> <span class=\"sub_text\"><span class=\"this_icon_star\"></span>8.01</span> </div>,\n",
       " <div class=\"title_box\"> <strong class=\"name\">극장판 짱구는 못말려: 우리...</strong> <span class=\"sub_text\"><span class=\"this_icon_star\"></span>7.95</span> </div>,\n",
       " <div class=\"title_box\"> <strong class=\"name\">데드데드 데몬즈 디디디디 디...</strong> <span class=\"sub_text\"><span class=\"this_icon_star\"></span>7.62</span> </div>,\n",
       " <div class=\"title_box\"> <strong class=\"name\">쇼잉 업</strong> <span class=\"sub_text\"><span class=\"this_icon_star\"></span>7.51</span> </div>,\n",
       " <div class=\"title_box\"> <strong class=\"name\">페라리</strong> <span class=\"sub_text\"><span class=\"this_icon_star\"></span>7.05</span> </div>,\n",
       " <div class=\"title_box\"> <strong class=\"name\">보고타: 마지막 기회의 땅</strong> <span class=\"sub_text\"><span class=\"this_icon_star\"></span>6.93</span> </div>,\n",
       " <div class=\"title_box\"> <strong class=\"name\">사일런트 러브</strong> <span class=\"sub_text\"><span class=\"this_icon_star\"></span>6.33</span> </div>]"
      ]
     },
     "execution_count": 5,
     "metadata": {},
     "output_type": "execute_result"
    }
   ],
   "source": [
    "soup.find_all('div','title_box')"
   ]
  },
  {
   "cell_type": "code",
   "execution_count": 7,
   "id": "5c0c4b61-1fbb-418f-bb86-c741b5984aac",
   "metadata": {},
   "outputs": [
    {
     "data": {
      "text/plain": [
       "53"
      ]
     },
     "execution_count": 7,
     "metadata": {},
     "output_type": "execute_result"
    }
   ],
   "source": [
    "# 영화 개수\n",
    "len(soup.find_all('div','title_box'))"
   ]
  },
  {
   "cell_type": "code",
   "execution_count": 89,
   "id": "c48129d6-8dc4-431b-8ef7-9b3d291c2cd7",
   "metadata": {},
   "outputs": [
    {
     "data": {
      "text/plain": [
       "' 보고타: 마지막 기회의 땅 5,401명 '"
      ]
     },
     "execution_count": 89,
     "metadata": {},
     "output_type": "execute_result"
    }
   ],
   "source": [
    "soup.find_all('div','title_box')[3].get_text()"
   ]
  },
  {
   "cell_type": "code",
   "execution_count": 111,
   "id": "03d3a77f-c30a-4681-af4e-8488aa696e70",
   "metadata": {},
   "outputs": [
    {
     "data": {
      "text/plain": [
       "'보고타: 마지막 기회의 땅'"
      ]
     },
     "execution_count": 111,
     "metadata": {},
     "output_type": "execute_result"
    }
   ],
   "source": [
    "import re\n",
    "\n",
    "soup_string = soup.find_all('div','title_box')[3].get_text()\n",
    "a = re.split((' '), soup_string)\n",
    "title = ' '.join(a[1:-2])\n",
    "title"
   ]
  },
  {
   "cell_type": "code",
   "execution_count": 117,
   "id": "c7951de6-40d6-4746-bdb3-ae8dd388451d",
   "metadata": {},
   "outputs": [
    {
     "data": {
      "text/plain": [
       "['하얼빈',\n",
       " '소방관',\n",
       " '동화지만 청불입니다',\n",
       " '보고타: 마지막 기회의 땅',\n",
       " '극장판 짱구는 못말려: 우리...',\n",
       " '수퍼 소닉3',\n",
       " '위키드',\n",
       " '서브스턴스',\n",
       " '뽀로로 극장판 바닷속 대모험',\n",
       " '모아나 2',\n",
       " '무파사: 라이온 킹',\n",
       " '페라리',\n",
       " '러브레터',\n",
       " '시빌 워: 분열의 시대',\n",
       " '데드데드 데몬즈 디디디디 디...',\n",
       " '더 폴: 디렉터스 컷',\n",
       " '귀신경찰',\n",
       " '이처럼 사소한 것들',\n",
       " '대가족',\n",
       " '극장판 주술회전 0',\n",
       " '코넬의 상자',\n",
       " '쇼잉 업',\n",
       " '이터널 선샤인',\n",
       " '사일런트 러브',\n",
       " '카라바조의 그림자',\n",
       " '노스페라투',\n",
       " '색, 계',\n",
       " '문워크',\n",
       " '보와니 분기점',\n",
       " '페르소나: 이상한 여자',\n",
       " '뽀로로 극장판 바닷속 대모험',\n",
       " '러브레터',\n",
       " '이터널 선샤인',\n",
       " '색, 계',\n",
       " '극장판 주술회전 0',\n",
       " '더 폴: 디렉터스 컷',\n",
       " '위키드',\n",
       " '서브스턴스',\n",
       " '시빌 워: 분열의 시대',\n",
       " '소방관',\n",
       " '수퍼 소닉3',\n",
       " '동화지만 청불입니다',\n",
       " '하얼빈',\n",
       " '이처럼 사소한 것들',\n",
       " '모아나 2',\n",
       " '무파사: 라이온 킹',\n",
       " '대가족',\n",
       " '극장판 짱구는 못말려: 우리...',\n",
       " '데드데드 데몬즈 디디디디 디...',\n",
       " '쇼잉 업',\n",
       " '페라리',\n",
       " '보고타: 마지막 기회의 땅',\n",
       " '사일런트 러브']"
      ]
     },
     "execution_count": 117,
     "metadata": {},
     "output_type": "execute_result"
    }
   ],
   "source": [
    "titles = []\n",
    "\n",
    "\n",
    "for i in range(len(soup.find_all('div','title_box'))):\n",
    "    soup_string = soup.find_all('div','title_box')[i].get_text()\n",
    "    a = re.split((' '), soup_string)\n",
    "    title = ' '.join(a[1:-2])\n",
    "    titles.append(title)\n",
    "\n",
    "titles"
   ]
  },
  {
   "cell_type": "code",
   "execution_count": 123,
   "id": "0a2051bb-6e04-4b45-b66b-f5b45f91eb31",
   "metadata": {},
   "outputs": [
    {
     "data": {
      "text/html": [
       "<div>\n",
       "<style scoped>\n",
       "    .dataframe tbody tr th:only-of-type {\n",
       "        vertical-align: middle;\n",
       "    }\n",
       "\n",
       "    .dataframe tbody tr th {\n",
       "        vertical-align: top;\n",
       "    }\n",
       "\n",
       "    .dataframe thead th {\n",
       "        text-align: right;\n",
       "    }\n",
       "</style>\n",
       "<table border=\"1\" class=\"dataframe\">\n",
       "  <thead>\n",
       "    <tr style=\"text-align: right;\">\n",
       "      <th></th>\n",
       "      <th>Title</th>\n",
       "    </tr>\n",
       "  </thead>\n",
       "  <tbody>\n",
       "    <tr>\n",
       "      <th>0</th>\n",
       "      <td>하얼빈</td>\n",
       "    </tr>\n",
       "    <tr>\n",
       "      <th>1</th>\n",
       "      <td>소방관</td>\n",
       "    </tr>\n",
       "    <tr>\n",
       "      <th>2</th>\n",
       "      <td>동화지만 청불입니다</td>\n",
       "    </tr>\n",
       "    <tr>\n",
       "      <th>3</th>\n",
       "      <td>보고타: 마지막 기회의 땅</td>\n",
       "    </tr>\n",
       "    <tr>\n",
       "      <th>4</th>\n",
       "      <td>극장판 짱구는 못말려: 우리...</td>\n",
       "    </tr>\n",
       "  </tbody>\n",
       "</table>\n",
       "</div>"
      ],
      "text/plain": [
       "                Title\n",
       "0                 하얼빈\n",
       "1                 소방관\n",
       "2          동화지만 청불입니다\n",
       "3      보고타: 마지막 기회의 땅\n",
       "4  극장판 짱구는 못말려: 우리..."
      ]
     },
     "execution_count": 123,
     "metadata": {},
     "output_type": "execute_result"
    }
   ],
   "source": [
    "import pandas as pd\n",
    "\n",
    "df = pd.DataFrame(titles, columns=['Title'])\n",
    "df.head()"
   ]
  },
  {
   "cell_type": "code",
   "execution_count": 141,
   "id": "1a808d51-ce0d-4d99-977d-147d169aa07d",
   "metadata": {},
   "outputs": [
    {
     "data": {
      "text/plain": [
       "'?where=nexearch&sm=tab_etc&mra=bkEw&pkid=68&os=29282372&qvt=0&query=%ED%95%98%EC%96%BC%EB%B9%88'"
      ]
     },
     "execution_count": 141,
     "metadata": {},
     "output_type": "execute_result"
    }
   ],
   "source": [
    "links = soup.find_all('a','inner')\n",
    "links[0]['href']"
   ]
  },
  {
   "cell_type": "code",
   "execution_count": 143,
   "id": "9e6376e5-fd13-4db2-9ff2-8ea5b3eb3b4e",
   "metadata": {},
   "outputs": [],
   "source": [
    "url_base = 'https://search.naver.com/search.naver'\n",
    "url = url_base+links[0]['href']\n",
    "\n",
    "# User-Agent 헤더 설정\n",
    "headers = {'User-Agent': 'Mozilla/5.0 (Windows NT 10.0; Win64; x64) AppleWebKit/537.36 (KHTML, like Gecko) Chrome/91.0.4472.124 Safari/537.36'}\n",
    "req = Request(url, headers=headers)\n",
    "\n",
    "# 요청 보내기\n",
    "html = urlopen(req)\n",
    "soup_tmp = BeautifulSoup(html, 'html.parser')"
   ]
  },
  {
   "cell_type": "code",
   "execution_count": 144,
   "id": "cf0ec19a-f3d1-472a-8bb1-eaa302e7ff17",
   "metadata": {},
   "outputs": [
    {
     "data": {
      "text/plain": [
       "[<dd>드라마<span class=\"cm_bar_info\"></span>대한민국<span class=\"cm_bar_info\"></span>114분</dd>,\n",
       " <dd>2024.12.24.</dd>,\n",
       " <dd class=\"this_text_normal type_ell\"><span class=\"badge_visitor\">실관람객</span>a975****</dd>,\n",
       " <dd class=\"this_text_normal type_ell\"><span class=\"badge_visitor\">실관람객</span>rkdx****</dd>,\n",
       " <dd class=\"this_text_normal type_ell\"><span class=\"badge_visitor\">실관람객</span>mira****</dd>,\n",
       " <dd class=\"this_text_normal type_ell\"><span class=\"badge_visitor\">실관람객</span>shsl****</dd>,\n",
       " <dd class=\"this_text_normal type_ell\"><span class=\"badge_visitor\">실관람객</span>iren****</dd>,\n",
       " <dd class=\"this_text_normal type_ell\"><span class=\"badge_visitor\">실관람객</span>gksq****</dd>,\n",
       " <dd class=\"this_text_normal type_ell\"><span class=\"badge_visitor\">실관람객</span>ray4****</dd>,\n",
       " <dd class=\"this_text_normal type_ell\"><span class=\"badge_visitor\">실관람객</span>atss****</dd>,\n",
       " <dd class=\"this_text_normal type_ell\"><span class=\"badge_visitor\">실관람객</span>hunj****</dd>,\n",
       " <dd class=\"this_text_normal type_ell\"><span class=\"badge_visitor\">실관람객</span>wlgu****</dd>]"
      ]
     },
     "execution_count": 144,
     "metadata": {},
     "output_type": "execute_result"
    }
   ],
   "source": [
    "soup_tmp.find_all('dd')"
   ]
  },
  {
   "cell_type": "code",
   "execution_count": 147,
   "id": "a49c7fee-9e70-436e-a901-6c910f3b46a7",
   "metadata": {},
   "outputs": [
    {
     "data": {
      "text/plain": [
       "'2024.12.24.'"
      ]
     },
     "execution_count": 147,
     "metadata": {},
     "output_type": "execute_result"
    }
   ],
   "source": [
    "soup_tmp.find_all('dd')[1].get_text() # 영화 개봉일 추출"
   ]
  },
  {
   "cell_type": "code",
   "execution_count": 149,
   "id": "1299fa82-13c9-4553-a8c7-8a89d5d8e600",
   "metadata": {},
   "outputs": [
    {
     "data": {
      "text/plain": [
       "[<div class=\"item_info\"> <span class=\"normal_text\"><em>1</em>위 / <em>425</em>만명</span> </div>,\n",
       " <div class=\"item_info\"> <span class=\"this_icon_star\"></span> <span class=\"this_text_bold\">8.02</span> </div>,\n",
       " <div class=\"item_info\"> <span class=\"this_icon_star\"></span> <span class=\"this_text_bold\">7.41</span> </div>]"
      ]
     },
     "execution_count": 149,
     "metadata": {},
     "output_type": "execute_result"
    }
   ],
   "source": [
    "soup_tmp.find_all('div', 'item_info')"
   ]
  },
  {
   "cell_type": "code",
   "execution_count": 155,
   "id": "f90d59d3-5249-47e6-a345-ca5dc7919b19",
   "metadata": {},
   "outputs": [
    {
     "data": {
      "text/plain": [
       "'8.02'"
      ]
     },
     "execution_count": 155,
     "metadata": {},
     "output_type": "execute_result"
    }
   ],
   "source": [
    "soup_tmp.find_all('div', 'item_info')[1].get_text().strip(' ') # 영화 평점 추출"
   ]
  },
  {
   "cell_type": "code",
   "execution_count": 161,
   "id": "a10ac071-fea0-4c10-badf-7c5812a5bd46",
   "metadata": {},
   "outputs": [
    {
     "name": "stdout",
     "output_type": "stream",
     "text": [
      "53 53\n",
      "['2024.12.24.', '2024.12.04.', '2025.01.08.', '2024.12.31.', '2024.12.18.', '2025.01.01.', '2024.11.20.', '2024.12.11.', '2025.01.01.', '2024.11.27.', '2024.12.18.', '2025.01.08.', '2025.01.01.', '2024.12.31.', '2025.01.08.', '2024.12.25.', '2025.01.24.', '2024.12.11.', '2024.12.11.', '2024.12.11.', '2025.01.08.', '2025.01.08.', '2024.12.18.', '2025.01.08.', '2025.01.22.', '2025.01.15.', '2025.01.01.', '2025.01.22.', None, '2025.01.15.', '2025.01.01.', '2025.01.01.', '2024.12.18.', '2025.01.01.', '2024.12.11.', '2024.12.25.', '2024.11.20.', '2024.12.11.', '2024.12.31.', '2024.12.04.', '2025.01.01.', '2025.01.08.', '2024.12.24.', '2024.12.11.', '2024.11.27.', '2024.12.18.', '2024.12.11.', '2024.12.18.', '2025.01.08.', '2025.01.08.', '2025.01.08.', '2024.12.31.', '2025.01.08.']\n",
      "['8.02', '8.19', '8.05', '6.92', '7.88', '8.19', '8.68', '8.40', '9.83', '8.01', '8.01', '7.04', '9.32', '8.33', '7.36', '8.93', None, '8.03', '8.00', '8.90', '7.77', '7.44', '9.23', '6.36', None, None, '9.10', None, None, None, '9.83', '9.32', '9.23', '9.10', '8.90', '8.93', '8.68', '8.40', '8.33', '8.19', '8.19', '8.05', '8.02', '8.03', '8.01', '8.01', '8.00', '7.88', '7.36', '7.44', '7.04', '6.92', '6.36']\n"
     ]
    }
   ],
   "source": [
    "import time\n",
    "\n",
    "dates = []\n",
    "points = []\n",
    "\n",
    "for i in range(len(soup.find_all('div','title_box'))):\n",
    "    links = soup.find_all('a','inner')\n",
    "    url_base = 'https://search.naver.com/search.naver'\n",
    "    url = url_base+links[i]['href']\n",
    "\n",
    "    headers = {'User-Agent': 'Mozilla/5.0 (Windows NT 10.0; Win64; x64) AppleWebKit/537.36 (KHTML, like Gecko) Chrome/91.0.4472.124 Safari/537.36'}\n",
    "    req = Request(url, headers=headers)\n",
    "\n",
    "    html = urlopen(req)\n",
    "    soup_tmp = BeautifulSoup(html, 'html.parser')\n",
    "\n",
    "    # 'dd' 태그 처리\n",
    "    dd_elements = soup_tmp.find_all('dd')\n",
    "    if len(dd_elements) > 1:\n",
    "        dates.append(dd_elements[1].get_text())\n",
    "    else:\n",
    "        dates.append(None)\n",
    "\n",
    "    # 'div', 'item_info' 처리\n",
    "    item_info = soup_tmp.find_all('div', 'item_info')\n",
    "    if len(item_info) > 1:\n",
    "        points.append(item_info[1].get_text().strip(' '))\n",
    "    else:\n",
    "        points.append(None)  # 데이터가 없는 경우 처리\n",
    "\n",
    "    time.sleep(1)\n",
    "\n",
    "print(len(dates), len(points))\n",
    "print(dates)\n",
    "print(points)"
   ]
  },
  {
   "cell_type": "code",
   "execution_count": 167,
   "id": "c367aaaa-1360-46ce-a027-315c419a3346",
   "metadata": {},
   "outputs": [
    {
     "data": {
      "text/html": [
       "<div>\n",
       "<style scoped>\n",
       "    .dataframe tbody tr th:only-of-type {\n",
       "        vertical-align: middle;\n",
       "    }\n",
       "\n",
       "    .dataframe tbody tr th {\n",
       "        vertical-align: top;\n",
       "    }\n",
       "\n",
       "    .dataframe thead th {\n",
       "        text-align: right;\n",
       "    }\n",
       "</style>\n",
       "<table border=\"1\" class=\"dataframe\">\n",
       "  <thead>\n",
       "    <tr style=\"text-align: right;\">\n",
       "      <th></th>\n",
       "      <th>Title</th>\n",
       "      <th>Date</th>\n",
       "      <th>Point</th>\n",
       "    </tr>\n",
       "  </thead>\n",
       "  <tbody>\n",
       "    <tr>\n",
       "      <th>0</th>\n",
       "      <td>하얼빈</td>\n",
       "      <td>2024.12.24.</td>\n",
       "      <td>8.02</td>\n",
       "    </tr>\n",
       "    <tr>\n",
       "      <th>1</th>\n",
       "      <td>소방관</td>\n",
       "      <td>2024.12.04.</td>\n",
       "      <td>8.19</td>\n",
       "    </tr>\n",
       "    <tr>\n",
       "      <th>2</th>\n",
       "      <td>동화지만 청불입니다</td>\n",
       "      <td>2025.01.08.</td>\n",
       "      <td>8.05</td>\n",
       "    </tr>\n",
       "    <tr>\n",
       "      <th>3</th>\n",
       "      <td>보고타: 마지막 기회의 땅</td>\n",
       "      <td>2024.12.31.</td>\n",
       "      <td>6.92</td>\n",
       "    </tr>\n",
       "    <tr>\n",
       "      <th>4</th>\n",
       "      <td>극장판 짱구는 못말려: 우리...</td>\n",
       "      <td>2024.12.18.</td>\n",
       "      <td>7.88</td>\n",
       "    </tr>\n",
       "  </tbody>\n",
       "</table>\n",
       "</div>"
      ],
      "text/plain": [
       "                Title         Date Point\n",
       "0                 하얼빈  2024.12.24.  8.02\n",
       "1                 소방관  2024.12.04.  8.19\n",
       "2          동화지만 청불입니다  2025.01.08.  8.05\n",
       "3      보고타: 마지막 기회의 땅  2024.12.31.  6.92\n",
       "4  극장판 짱구는 못말려: 우리...  2024.12.18.  7.88"
      ]
     },
     "execution_count": 167,
     "metadata": {},
     "output_type": "execute_result"
    }
   ],
   "source": [
    "df['Date'] = dates\n",
    "df['Point'] = points\n",
    "\n",
    "df.head()"
   ]
  },
  {
   "cell_type": "code",
   "execution_count": null,
   "id": "a75a2882-2b53-425f-a97c-621f825356e5",
   "metadata": {},
   "outputs": [],
   "source": []
  }
 ],
 "metadata": {
  "kernelspec": {
   "display_name": "Python 3 (ipykernel)",
   "language": "python",
   "name": "python3"
  },
  "language_info": {
   "codemirror_mode": {
    "name": "ipython",
    "version": 3
   },
   "file_extension": ".py",
   "mimetype": "text/x-python",
   "name": "python",
   "nbconvert_exporter": "python",
   "pygments_lexer": "ipython3",
   "version": "3.12.7"
  }
 },
 "nbformat": 4,
 "nbformat_minor": 5
}
