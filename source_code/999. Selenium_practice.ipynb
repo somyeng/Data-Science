{
 "cells": [
  {
   "cell_type": "code",
   "execution_count": 54,
   "id": "90171df8-cf89-4503-a923-4e747d1c25b9",
   "metadata": {},
   "outputs": [
    {
     "name": "stdout",
     "output_type": "stream",
     "text": [
      "Requirement already satisfied: selenium in c:\\users\\thaud\\anaconda3\\lib\\site-packages (4.27.1)\n",
      "Requirement already satisfied: urllib3<3,>=1.26 in c:\\users\\thaud\\anaconda3\\lib\\site-packages (from urllib3[socks]<3,>=1.26->selenium) (2.2.3)\n",
      "Requirement already satisfied: trio~=0.17 in c:\\users\\thaud\\anaconda3\\lib\\site-packages (from selenium) (0.28.0)\n",
      "Requirement already satisfied: trio-websocket~=0.9 in c:\\users\\thaud\\anaconda3\\lib\\site-packages (from selenium) (0.11.1)\n",
      "Requirement already satisfied: certifi>=2021.10.8 in c:\\users\\thaud\\anaconda3\\lib\\site-packages (from selenium) (2024.8.30)\n",
      "Requirement already satisfied: typing_extensions~=4.9 in c:\\users\\thaud\\anaconda3\\lib\\site-packages (from selenium) (4.11.0)\n",
      "Requirement already satisfied: websocket-client~=1.8 in c:\\users\\thaud\\anaconda3\\lib\\site-packages (from selenium) (1.8.0)\n",
      "Requirement already satisfied: attrs>=23.2.0 in c:\\users\\thaud\\anaconda3\\lib\\site-packages (from trio~=0.17->selenium) (24.3.0)\n",
      "Requirement already satisfied: sortedcontainers in c:\\users\\thaud\\anaconda3\\lib\\site-packages (from trio~=0.17->selenium) (2.4.0)\n",
      "Requirement already satisfied: idna in c:\\users\\thaud\\anaconda3\\lib\\site-packages (from trio~=0.17->selenium) (3.7)\n",
      "Requirement already satisfied: outcome in c:\\users\\thaud\\anaconda3\\lib\\site-packages (from trio~=0.17->selenium) (1.3.0.post0)\n",
      "Requirement already satisfied: sniffio>=1.3.0 in c:\\users\\thaud\\anaconda3\\lib\\site-packages (from trio~=0.17->selenium) (1.3.0)\n",
      "Requirement already satisfied: cffi>=1.14 in c:\\users\\thaud\\anaconda3\\lib\\site-packages (from trio~=0.17->selenium) (1.17.1)\n",
      "Requirement already satisfied: wsproto>=0.14 in c:\\users\\thaud\\anaconda3\\lib\\site-packages (from trio-websocket~=0.9->selenium) (1.2.0)\n",
      "Requirement already satisfied: pysocks!=1.5.7,<2.0,>=1.5.6 in c:\\users\\thaud\\anaconda3\\lib\\site-packages (from urllib3[socks]<3,>=1.26->selenium) (1.7.1)\n",
      "Requirement already satisfied: pycparser in c:\\users\\thaud\\anaconda3\\lib\\site-packages (from cffi>=1.14->trio~=0.17->selenium) (2.21)\n",
      "Requirement already satisfied: h11<1,>=0.9.0 in c:\\users\\thaud\\anaconda3\\lib\\site-packages (from wsproto>=0.14->trio-websocket~=0.9->selenium) (0.14.0)\n"
     ]
    }
   ],
   "source": [
    "!pip install selenium\n",
    "\n",
    "from selenium import webdriver"
   ]
  },
  {
   "cell_type": "code",
   "execution_count": 88,
   "id": "c1f83aec-f244-4586-85b8-029db21cac42",
   "metadata": {},
   "outputs": [],
   "source": [
    "from selenium import webdriver\n",
    "from selenium.webdriver.chrome.service import Service\n",
    "from selenium.webdriver.chrome.options import Options\n",
    "\n",
    "# Chromedriver의 절대 경로 설정\n",
    "chromedriver_path = '../driver/chromedriver/chromedriver.exe'\n",
    "\n",
    "# Service 객체 생성\n",
    "service = Service(executable_path=chromedriver_path)\n",
    "\n",
    "# Chrome 옵션 설정 (필요에 따라 추가 가능)\n",
    "options = Options()\n",
    "options.add_argument('--start-maximized')  # 브라우저 최대화\n",
    "\n",
    "# WebDriver 초기화\n",
    "driver = webdriver.Chrome(service=service, options=options)\n",
    "\n",
    "# 네이버 기기\n",
    "driver.get(\"https://naver.com\")"
   ]
  },
  {
   "cell_type": "code",
   "execution_count": 89,
   "id": "75322ffe-de0c-4d7b-8799-b07f67d29640",
   "metadata": {},
   "outputs": [],
   "source": [
    "from selenium.webdriver.common.by import By\n",
    "\n",
    "# 로그인 버튼 클릭\n",
    "login_path = '//*[@id=\"account\"]/div/a'\n",
    "driver.find_element(By.XPATH, login_path).click()"
   ]
  },
  {
   "cell_type": "code",
   "execution_count": 100,
   "id": "687fac31-7547-4a88-a2a9-10818339e2c8",
   "metadata": {},
   "outputs": [],
   "source": [
    "# 아이디 입력\n",
    "elem_login = driver.find_element(By.ID, 'id')\n",
    "elem_login.clear()\n",
    "elem_login.send_keys('thaud0908')\n",
    "\n",
    "# 패스워드 입력\n",
    "elem_login = driver.find_element(By.ID, 'pw')\n",
    "elem_login.clear()\n",
    "elem_login.send_keys('**********')"
   ]
  },
  {
   "cell_type": "code",
   "execution_count": 102,
   "id": "ea04a020-3355-4190-9ba0-95326f0618e1",
   "metadata": {},
   "outputs": [],
   "source": [
    "# 로그인 버튼 클릭\n",
    "path = '//*[@id=\"log.login\"]'\n",
    "driver.find_element(By.XPATH, path).click()"
   ]
  },
  {
   "cell_type": "code",
   "execution_count": 104,
   "id": "5c728367-6382-4531-96f6-674b8e3134da",
   "metadata": {},
   "outputs": [],
   "source": [
    "# 메일함 기기\n",
    "driver.get('https://mail.naver.com/v2/folders/0/all')"
   ]
  },
  {
   "cell_type": "code",
   "execution_count": 106,
   "id": "bd7a3ed4-29f4-4c2a-bb85-35631ddf441a",
   "metadata": {},
   "outputs": [],
   "source": [
    "from bs4 import BeautifulSoup\n",
    "\n",
    "# 메일함 파싱\n",
    "html = driver.page_source\n",
    "soup = BeautifulSoup(html, 'html.parser')"
   ]
  },
  {
   "cell_type": "code",
   "execution_count": 108,
   "id": "e82b5613-1d39-44ea-aaad-cfd1fed86582",
   "metadata": {},
   "outputs": [
    {
     "data": {
      "text/plain": [
       "[<button class=\"button_sender\" title='\"(주)놀유니버스\"&lt;no_reply@yanolja.com&gt;' type=\"button\"><span class=\"blind\">보낸 사람</span>(주)놀유니버스</button>,\n",
       " <button class=\"button_sender\" title='\"한국기업기술가치평가협회\"&lt;kvainfo@valuation.or.kr&gt;' type=\"button\"><span class=\"blind\">보낸 사람</span>한국기업기술가치평가협회</button>,\n",
       " <button class=\"button_sender\" title='\"잡코리아 | AI추천\"&lt;smartAI@jobkorea.co.kr&gt;' type=\"button\"><span class=\"blind\">보낸 사람</span>잡코리아 | AI추천</button>,\n",
       " <button class=\"button_sender\" title='\"PAYCO\"&lt;no-reply@payco.com&gt;' type=\"button\"><span class=\"blind\">보낸 사람</span>PAYCO</button>,\n",
       " <button class=\"button_sender\" title='\"잡코리아 | AI추천\"&lt;smartAI@jobkorea.co.kr&gt;' type=\"button\"><span class=\"blind\">보낸 사람</span>잡코리아 | AI추천</button>,\n",
       " <button class=\"button_sender\" title='\"인터파크\"&lt;domair@interpark.com&gt;' type=\"button\"><span class=\"blind\">보낸 사람</span>인터파크</button>,\n",
       " <button class=\"button_sender\" title='\"AIRBUSAN\"&lt;webmaster@airbusan.com&gt;' type=\"button\"><span class=\"blind\">보낸 사람</span>AIRBUSAN</button>,\n",
       " <button class=\"button_sender\" title='\"AIR BUSAN\"&lt;webmaster@airbusan.com&gt;' type=\"button\"><span class=\"blind\">보낸 사람</span>AIR BUSAN</button>,\n",
       " <button class=\"button_sender\" title='\"한국기업기술가치평가협회\"&lt;kvainfo@valuation.or.kr&gt;' type=\"button\"><span class=\"blind\">보낸 사람</span>한국기업기술가치평가협회</button>,\n",
       " <button class=\"button_sender\" title='\"한국기업기술가치평가협회\"&lt;kvainfo@valuation.or.kr&gt;' type=\"button\"><span class=\"blind\">보낸 사람</span>한국기업기술가치평가협회</button>,\n",
       " <button class=\"button_sender\" title='\"잡코리아 | AI추천\"&lt;smartAI@jobkorea.co.kr&gt;' type=\"button\"><span class=\"blind\">보낸 사람</span>잡코리아 | AI추천</button>,\n",
       " <button class=\"button_sender\" title='\"KB국민은행\"&lt;kbmail@kbmail.kbstar.com&gt;' type=\"button\"><span class=\"blind\">보낸 사람</span>KB국민은행</button>,\n",
       " <button class=\"button_sender\" title='\"잡코리아 | AI추천\"&lt;smartAI@jobkorea.co.kr&gt;' type=\"button\"><span class=\"blind\">보낸 사람</span>잡코리아 | AI추천</button>,\n",
       " <button class=\"button_sender\" title='\"쿠팡\"&lt;noreply@e.coupang.com&gt;' type=\"button\"><span class=\"blind\">보낸 사람</span>쿠팡</button>,\n",
       " <button class=\"button_sender\" title='\"한국기업기술가치평가협회\"&lt;kvainfo@valuation.or.kr&gt;' type=\"button\"><span class=\"blind\">보낸 사람</span>한국기업기술가치평가협회</button>]"
      ]
     },
     "execution_count": 108,
     "metadata": {},
     "output_type": "execute_result"
    }
   ],
   "source": [
    "# 보낸사람 텍스트 접근기기\n",
    "raw_list = soup.find_all('button', 'button_sender')\n",
    "raw_list"
   ]
  },
  {
   "cell_type": "code",
   "execution_count": 126,
   "id": "3d7b3d3a-a8d4-4f1e-a9e3-9793cf9a68c4",
   "metadata": {},
   "outputs": [
    {
     "data": {
      "text/plain": [
       "'(주)놀유니버스'"
      ]
     },
     "execution_count": 126,
     "metadata": {},
     "output_type": "execute_result"
    }
   ],
   "source": [
    "raw_list[0].get_text()[5:]"
   ]
  },
  {
   "cell_type": "code",
   "execution_count": 128,
   "id": "1014a623-881f-42de-97f6-f04846555761",
   "metadata": {},
   "outputs": [
    {
     "data": {
      "text/plain": [
       "['(주)놀유니버스',\n",
       " '한국기업기술가치평가협회',\n",
       " '잡코리아 | AI추천',\n",
       " 'PAYCO',\n",
       " '잡코리아 | AI추천',\n",
       " '인터파크',\n",
       " 'AIRBUSAN',\n",
       " 'AIR BUSAN',\n",
       " '한국기업기술가치평가협회',\n",
       " '한국기업기술가치평가협회',\n",
       " '잡코리아 | AI추천',\n",
       " 'KB국민은행',\n",
       " '잡코리아 | AI추천',\n",
       " '쿠팡',\n",
       " '한국기업기술가치평가협회']"
      ]
     },
     "execution_count": 128,
     "metadata": {},
     "output_type": "execute_result"
    }
   ],
   "source": [
    "send_list = [raw_list[n].get_text()[5:] for n in range(0, len(raw_list))]\n",
    "send_list"
   ]
  },
  {
   "cell_type": "code",
   "execution_count": 130,
   "id": "baccf438-39bb-4881-b770-03520bc5dce8",
   "metadata": {},
   "outputs": [],
   "source": [
    "# 웹페이지 닫기\n",
    "driver.close()"
   ]
  }
 ],
 "metadata": {
  "kernelspec": {
   "display_name": "Python 3 (ipykernel)",
   "language": "python",
   "name": "python3"
  },
  "language_info": {
   "codemirror_mode": {
    "name": "ipython",
    "version": 3
   },
   "file_extension": ".py",
   "mimetype": "text/x-python",
   "name": "python",
   "nbconvert_exporter": "python",
   "pygments_lexer": "ipython3",
   "version": "3.12.7"
  }
 },
 "nbformat": 4,
 "nbformat_minor": 5
}
